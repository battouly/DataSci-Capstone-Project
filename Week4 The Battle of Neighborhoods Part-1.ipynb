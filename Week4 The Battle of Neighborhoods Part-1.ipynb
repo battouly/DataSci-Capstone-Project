{
 "cells": [
  {
   "cell_type": "markdown",
   "metadata": {},
   "source": [
    "# <center> Coursera Capstone </center>\n",
    "## <center> IBM Applied Data Science Capstone </center>\n",
    "\n",
    "### <center> Implementing a Coding Center for kids in Kuala Lumpur </center>\n",
    "\n",
    "<center>By: Fatoumata Battouly</center>\n"
   ]
  },
  {
   "cell_type": "markdown",
   "metadata": {},
   "source": [
    "<img src=\"malaysia.jpg\" alt=\"image of kuala Lumpur\">"
   ]
  },
  {
   "cell_type": "markdown",
   "metadata": {},
   "source": [
    "## Introduction\n",
    "\n",
    "Kuala Lumpur is the capital of Malaysia. Its modern skyline is dominated by the 451m-tall Petronas Twin Towers, a pair of glass-and-steel-clad skyscrapers with Islamic motifs. The towers also offer a public skybridge and observation deck. The city is also home to British colonial-era landmarks such as the Kuala Lumpur Railway Station and the Sultan Abdul Samad Building. (wikipedia,2020)\n",
    "\n",
    "kuala Lumpur a busy City with more than two third of the population going to work daily, it becomes increasingly important to examine and understand niches through which investors can engage to solve problems. The City of Kuala Lumpur does not provide open data for researshers  and developers for analysis and services but we will strive to scrape some useful best interest points of the city.\n",
    "\n",
    "## The Business problem\n",
    "\n",
    "A company providing computer programming courses for kids wants to open a new branch in the city of Kuala Lumpur and have hired me to find out where is the best neighbourhood for the center to be openned. \n",
    "Should we consider a shopping mall area of condominiums area?\n",
    "\n",
    "## The Data\n",
    "Given that Kuala Lumpur does not have free data sets available, collecting data will be done through web scrapping technics on the internet. \n",
    "\n",
    "The following data will be used for the analysis:\n",
    "- Neighbourhoods in Kuala Lumpur.\n",
    "- Longitude and Latitude coordinates of the neighbourhoods.\n",
    "- Using Foursquare data, what venues are most suitable from different locations within the city?\n",
    "\n",
    "### Source of Data for neighbourhood \n",
    " - https://en.wikipedia.org/wiki/Category:Suburbs_in_Kuala_Lumpur  \n",
    "Using this data will allow exploration and examination to answer the questions. The neighbourhood data will enable us to properly spot points where families will more likely be visiting often in the neighbourhood.\n",
    " \n",
    "## Target audience\n",
    "The target audience for the project are families with children. \n",
    "\n",
    "##### Let's Do The Magic in The Next Part!"
   ]
  },
  {
   "cell_type": "code",
   "execution_count": null,
   "metadata": {},
   "outputs": [],
   "source": []
  }
 ],
 "metadata": {
  "kernelspec": {
   "display_name": "Python 3",
   "language": "python",
   "name": "python3"
  },
  "language_info": {
   "codemirror_mode": {
    "name": "ipython",
    "version": 3
   },
   "file_extension": ".py",
   "mimetype": "text/x-python",
   "name": "python",
   "nbconvert_exporter": "python",
   "pygments_lexer": "ipython3",
   "version": "3.7.4"
  }
 },
 "nbformat": 4,
 "nbformat_minor": 2
}
